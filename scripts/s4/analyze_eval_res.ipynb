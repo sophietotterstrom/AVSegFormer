{
 "cells": [
  {
   "cell_type": "code",
   "execution_count": null,
   "id": "4a38d41f",
   "metadata": {},
   "outputs": [],
   "source": [
    "import pandas as pd\n",
    "import matplotlib.pyplot as plt\n",
    "import numpy as np"
   ]
  },
  {
   "cell_type": "code",
   "execution_count": null,
   "id": "d2ed0b01",
   "metadata": {},
   "outputs": [],
   "source": [
    "def read_csv(csv_file):\n",
    "    # writer.writerow([\"iter\", \"video_name\", \"category\", \"miou\", \"F_score\"])  # header\n",
    "    df = pd.read_csv(csv_file)\n",
    "\n",
    "    return df\n",
    "\n",
    "baseline_path = \"/home/sophie/repos/AVSegFormer/output_files/eval_2209_s4_baseline.csv\"\n",
    "#model_path = \"/home/sophie/repos/AVSegFormer/output_files/eval_2909_epochs5_sav-pretrained_s4_output.csv\"\n",
    "model_path = \"/home/sophie/repos/AVSegFormer/output_files/eval_1809_duration5s_epochs5_sav-pretrained_s4.csv\"\n",
    "\n",
    "baseline_df = read_csv(baseline_path)\n",
    "model_df = read_csv(model_path)"
   ]
  },
  {
   "cell_type": "code",
   "execution_count": null,
   "id": "46cfabf4",
   "metadata": {},
   "outputs": [],
   "source": [
    "def calculate_avg_metrics_by_category(df):\n",
    "    \n",
    "    return df.groupby('category')[['miou', 'F_score']].mean()\n",
    "\n",
    "def find_top_n(df, n=10):\n",
    "    return df.nlargest(n, 'miou')\n",
    "\n",
    "\n",
    "def find_bottom_n(df, n=10):\n",
    "    return df.nsmallest(n, 'miou')  "
   ]
  },
  {
   "cell_type": "code",
   "execution_count": null,
   "id": "f3d2c08f",
   "metadata": {},
   "outputs": [],
   "source": [
    "baseline_met_by_cat = calculate_avg_metrics_by_category(baseline_df)\n",
    "print(baseline_met_by_cat)"
   ]
  },
  {
   "cell_type": "code",
   "execution_count": null,
   "id": "eec9417f",
   "metadata": {},
   "outputs": [],
   "source": [
    "print(\"Top-10 IoU Videos (baseline)\")\n",
    "print(find_top_n(baseline_df))\n",
    "\n",
    "print(\"\\nBottom-10 IoU Videos (baseline)\")\n",
    "print(find_bottom_n(baseline_df))"
   ]
  },
  {
   "cell_type": "code",
   "execution_count": null,
   "id": "dbe08a92",
   "metadata": {},
   "outputs": [],
   "source": [
    "print(calculate_avg_metrics_by_category(model_df))"
   ]
  },
  {
   "cell_type": "code",
   "execution_count": null,
   "id": "43bf9b09",
   "metadata": {},
   "outputs": [],
   "source": [
    "print(\"Top-10 IoU Videos (5s 000-025 model)\")\n",
    "print(find_top_n(model_df))\n",
    "\n",
    "print(\"\\nBottom-10 IoU Videos (5s 000-025 model)\")\n",
    "print(find_bottom_n(model_df))"
   ]
  },
  {
   "cell_type": "code",
   "execution_count": null,
   "id": "39d83bdc",
   "metadata": {},
   "outputs": [],
   "source": [
    "baseline_metrics = calculate_avg_metrics_by_category(baseline_df)\n",
    "model_metrics = calculate_avg_metrics_by_category(model_df)\n",
    "\n",
    "# plotting\n",
    "categories = baseline_metrics.index\n",
    "baseline_iou = baseline_metrics['miou']\n",
    "model_iou = model_metrics['miou']\n",
    "\n",
    "fig, ax = plt.subplots(figsize=(14, 8))\n",
    "\n",
    "x = np.arange(len(categories))\n",
    "width = 0.35\n",
    "bars1 = ax.bar(x - width/2, baseline_iou, width, label='Baseline (2209)', alpha=0.8, color='skyblue')\n",
    "bars2 = ax.bar(x + width/2, model_iou, width, label='Model (2909)', alpha=0.8, color='orange')\n",
    "\n",
    "ax.set_xlabel('Category')\n",
    "ax.set_ylabel('Mean IoU')\n",
    "ax.set_title('IoU Comparison by Category: Baseline vs Model')\n",
    "ax.set_xticks(x)\n",
    "ax.set_xticklabels(categories, rotation=45, ha='right')\n",
    "ax.legend()\n",
    "ax.grid(True, alpha=0.3)\n",
    "\n",
    "for bar in bars1:\n",
    "    height = bar.get_height()\n",
    "    ax.annotate(f'{height:.3f}',\n",
    "                xy=(bar.get_x() + bar.get_width() / 2, height),\n",
    "                xytext=(0, 3),\n",
    "                textcoords=\"offset points\",\n",
    "                ha='center', va='bottom', fontsize=8)\n",
    "\n",
    "for bar in bars2:\n",
    "    height = bar.get_height()\n",
    "    ax.annotate(f'{height:.3f}',\n",
    "                xy=(bar.get_x() + bar.get_width() / 2, height),\n",
    "                xytext=(0, 3),\n",
    "                textcoords=\"offset points\",\n",
    "                ha='center', va='bottom', fontsize=8)\n",
    "plt.tight_layout()\n",
    "plt.show()\n",
    "\n",
    "\n",
    "# numerical\n",
    "comparison_df = pd.DataFrame({\n",
    "    'Baseline': baseline_metrics['miou'],\n",
    "    'Model': model_metrics['miou'],\n",
    "    'Difference': model_metrics['miou'] - baseline_metrics['miou'],\n",
    "    'Difference %': ((model_metrics['miou'] - baseline_metrics['miou']) / baseline_metrics['miou'] * 100)\n",
    "}).sort_values('Difference %', ascending=False)\n",
    "\n",
    "print(\"IoU Comparison by Category (Sorted by Difference %):\")\n",
    "print(\"=\" * 60)\n",
    "print(comparison_df.round(4))"
   ]
  },
  {
   "cell_type": "code",
   "execution_count": null,
   "id": "3fa7df37",
   "metadata": {},
   "outputs": [],
   "source": [
    "def find_biggest_iou_differences(baseline_df, model_df, n=10):\n",
    "    # Merge dataframes on video_name and category to compare same samples\n",
    "    merged_df = pd.merge(baseline_df, model_df, on=['video_name', 'category'], suffixes=('_baseline', '_model'))\n",
    "    \n",
    "    # Calculate difference (model - baseline)\n",
    "    merged_df['iou_difference'] = merged_df['miou_model'] - merged_df['miou_baseline']\n",
    "    merged_df['iou_difference_pct'] = (merged_df['iou_difference'] / merged_df['miou_baseline']) * 100\n",
    "    \n",
    "    # Sort by absolute difference to get biggest improvements and degradations\n",
    "    merged_df['abs_iou_difference'] = abs(merged_df['iou_difference'])\n",
    "    \n",
    "    return merged_df.nlargest(n, 'abs_iou_difference')[\n",
    "        ['video_name', 'category', 'miou_baseline', 'miou_model', 'iou_difference', 'iou_difference_pct']\n",
    "    ]\n",
    "\n",
    "biggest_differences = find_biggest_iou_differences(baseline_df, model_df, 10)\n",
    "\n",
    "print(\"Top 10 Samples with Biggest IoU Differences:\")\n",
    "print(\"=\" * 80)\n",
    "print(biggest_differences.round(4).to_string(index=False))"
   ]
  },
  {
   "cell_type": "code",
   "execution_count": null,
   "id": "39894ee4",
   "metadata": {},
   "outputs": [],
   "source": [
    "# Calculate improvements vs degradations from ALL samples\n",
    "merged_all = pd.merge(baseline_df, model_df, on=['video_name', 'category'], suffixes=('_baseline', '_model'))\n",
    "merged_all['iou_difference'] = merged_all['miou_model'] - merged_all['miou_baseline']\n",
    "\n",
    "all_improvements = merged_all[merged_all['iou_difference'] > 0]\n",
    "all_degradations = merged_all[merged_all['iou_difference'] < 0]\n",
    "no_change = merged_all[merged_all['iou_difference'] == 0]\n",
    "\n",
    "print(f\"\\nTotal samples: {len(merged_all)}\")\n",
    "print(f\"Improvements: {len(all_improvements)} samples ({len(all_improvements)/len(merged_all)*100:.1f}%)\")\n",
    "print(f\"Degradations: {len(all_degradations)} samples ({len(all_degradations)/len(merged_all)*100:.1f}%)\")\n",
    "print(f\"No change: {len(no_change)} samples ({len(no_change)/len(merged_all)*100:.1f}%)\")"
   ]
  },
  {
   "cell_type": "code",
   "execution_count": null,
   "id": "4ac45a2c",
   "metadata": {},
   "outputs": [],
   "source": [
    "\n",
    "print(f\"\\nTop 10 Improvements (from all samples):\")\n",
    "print(\"=\" * 110)\n",
    "print(f\"{'Video Name':<20} {'Category':<35} {'Baseline':<10} {'Model':<10} {'Difference':>12}\")\n",
    "print(\"-\" * 110)\n",
    "top_improvements = all_improvements.nlargest(10, 'iou_difference')[\n",
    "    ['video_name', 'category', 'miou_baseline', 'miou_model', 'iou_difference']\n",
    "]\n",
    "for idx, row in top_improvements.iterrows():\n",
    "    print(f\"{row['video_name']:<20} {row['category']:<35} {row['miou_baseline']:<10.4f} {row['miou_model']:<10.4f} {row['iou_difference']:>+12.4f}\")"
   ]
  },
  {
   "cell_type": "code",
   "execution_count": null,
   "id": "cc2fd3a7",
   "metadata": {},
   "outputs": [],
   "source": [
    "print(f\"\\nTop 10 Degradations (from all samples):\")\n",
    "print(\"=\" * 110)\n",
    "print(f\"{'Video Name':<20} {'Category':<35} {'Baseline':<10} {'Model':<10} {'Difference':>12}\")\n",
    "print(\"-\" * 110)\n",
    "top_degradations = all_degradations.nsmallest(10, 'iou_difference')[\n",
    "    ['video_name', 'category', 'miou_baseline', 'miou_model', 'iou_difference']\n",
    "]\n",
    "for idx, row in top_degradations.iterrows():\n",
    "    print(f\"{row['video_name']:<20} {row['category']:<35} {row['miou_baseline']:<10.4f} {row['miou_model']:<10.4f} {row['iou_difference']:>12.4f}\")\n",
    "\n",
    "print(\"=\" * 110)"
   ]
  }
 ],
 "metadata": {
  "kernelspec": {
   "display_name": "segformer",
   "language": "python",
   "name": "python3"
  },
  "language_info": {
   "codemirror_mode": {
    "name": "ipython",
    "version": 3
   },
   "file_extension": ".py",
   "mimetype": "text/x-python",
   "name": "python",
   "nbconvert_exporter": "python",
   "pygments_lexer": "ipython3",
   "version": "3.10.18"
  }
 },
 "nbformat": 4,
 "nbformat_minor": 5
}
