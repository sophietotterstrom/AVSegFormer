{
 "cells": [
  {
   "cell_type": "code",
   "execution_count": null,
   "id": "4a38d41f",
   "metadata": {},
   "outputs": [],
   "source": [
    "import pandas as pd\n",
    "import matplotlib.pyplot as plt\n",
    "import numpy as np"
   ]
  },
  {
   "cell_type": "code",
   "execution_count": null,
   "id": "d2ed0b01",
   "metadata": {},
   "outputs": [],
   "source": [
    "def read_csv(csv_file):\n",
    "    # writer.writerow([\"iter\", \"video_name\", \"category\", \"miou\", \"F_score\"])  # header\n",
    "    df = pd.read_csv(csv_file)\n",
    "\n",
    "    return df\n",
    "\n",
    "baseline_path = \"/home/sophie/repos/AVSegFormer/output_files/eval_2209_s4_baseline.csv\"\n",
    "model_path = \"/home/sophie/repos/AVSegFormer/output_files/eval_2909_epochs5_sav-pretrained_s4_output.csv\"\n",
    "\n",
    "baseline_df = read_csv(baseline_path)\n",
    "model_df = read_csv(model_path)"
   ]
  },
  {
   "cell_type": "code",
   "execution_count": null,
   "id": "46cfabf4",
   "metadata": {},
   "outputs": [],
   "source": [
    "def calculate_avg_metrics_by_category(df):\n",
    "    \n",
    "    return df.groupby('category')[['miou', 'F_score']].mean()\n",
    "\n",
    "def find_top_n(df, n=10):\n",
    "    return df.nlargest(n, 'miou')\n",
    "\n",
    "\n",
    "def find_bottom_n(df, n=10):\n",
    "    return df.nsmallest(n, 'miou')  "
   ]
  },
  {
   "cell_type": "code",
   "execution_count": null,
   "id": "f3d2c08f",
   "metadata": {},
   "outputs": [],
   "source": [
    "baseline_met_by_cat = calculate_avg_metrics_by_category(baseline_df)\n",
    "print(baseline_met_by_cat)"
   ]
  },
  {
   "cell_type": "code",
   "execution_count": null,
   "id": "eec9417f",
   "metadata": {},
   "outputs": [],
   "source": [
    "print(find_top_n(baseline_df))\n",
    "\n",
    "print(find_bottom_n(baseline_df))"
   ]
  },
  {
   "cell_type": "code",
   "execution_count": null,
   "id": "dbe08a92",
   "metadata": {},
   "outputs": [],
   "source": [
    "print(calculate_avg_metrics_by_category(model_df))"
   ]
  },
  {
   "cell_type": "code",
   "execution_count": null,
   "id": "43bf9b09",
   "metadata": {},
   "outputs": [],
   "source": [
    "print(find_top_n(model_df))\n",
    "\n",
    "print(find_bottom_n(model_df))"
   ]
  },
  {
   "cell_type": "code",
   "execution_count": null,
   "id": "39d83bdc",
   "metadata": {},
   "outputs": [],
   "source": [
    "baseline_metrics = calculate_avg_metrics_by_category(baseline_df)\n",
    "model_metrics = calculate_avg_metrics_by_category(model_df)\n",
    "\n",
    "# plotting\n",
    "categories = baseline_metrics.index\n",
    "baseline_iou = baseline_metrics['miou']\n",
    "model_iou = model_metrics['miou']\n",
    "\n",
    "fig, ax = plt.subplots(figsize=(14, 8))\n",
    "\n",
    "x = np.arange(len(categories))\n",
    "width = 0.35\n",
    "bars1 = ax.bar(x - width/2, baseline_iou, width, label='Baseline (2209)', alpha=0.8, color='skyblue')\n",
    "bars2 = ax.bar(x + width/2, model_iou, width, label='Model (2909)', alpha=0.8, color='orange')\n",
    "\n",
    "ax.set_xlabel('Category')\n",
    "ax.set_ylabel('Mean IoU')\n",
    "ax.set_title('IoU Comparison by Category: Baseline vs Model')\n",
    "ax.set_xticks(x)\n",
    "ax.set_xticklabels(categories, rotation=45, ha='right')\n",
    "ax.legend()\n",
    "ax.grid(True, alpha=0.3)\n",
    "\n",
    "for bar in bars1:\n",
    "    height = bar.get_height()\n",
    "    ax.annotate(f'{height:.3f}',\n",
    "                xy=(bar.get_x() + bar.get_width() / 2, height),\n",
    "                xytext=(0, 3),\n",
    "                textcoords=\"offset points\",\n",
    "                ha='center', va='bottom', fontsize=8)\n",
    "\n",
    "for bar in bars2:\n",
    "    height = bar.get_height()\n",
    "    ax.annotate(f'{height:.3f}',\n",
    "                xy=(bar.get_x() + bar.get_width() / 2, height),\n",
    "                xytext=(0, 3),\n",
    "                textcoords=\"offset points\",\n",
    "                ha='center', va='bottom', fontsize=8)\n",
    "plt.tight_layout()\n",
    "plt.show()\n",
    "\n",
    "\n",
    "# numerical\n",
    "comparison_df = pd.DataFrame({\n",
    "    'Baseline': baseline_metrics['miou'],\n",
    "    'Model': model_metrics['miou'],\n",
    "    'Difference': model_metrics['miou'] - baseline_metrics['miou'],\n",
    "    'Difference %': ((model_metrics['miou'] - baseline_metrics['miou']) / baseline_metrics['miou'] * 100)\n",
    "}).sort_values('Difference %', ascending=False)\n",
    "\n",
    "print(\"IoU Comparison by Category (Sorted by Difference %):\")\n",
    "print(\"=\" * 60)\n",
    "print(comparison_df.round(4))"
   ]
  }
 ],
 "metadata": {
  "kernelspec": {
   "display_name": "segformer",
   "language": "python",
   "name": "python3"
  },
  "language_info": {
   "codemirror_mode": {
    "name": "ipython",
    "version": 3
   },
   "file_extension": ".py",
   "mimetype": "text/x-python",
   "name": "python",
   "nbconvert_exporter": "python",
   "pygments_lexer": "ipython3",
   "version": "3.10.18"
  }
 },
 "nbformat": 4,
 "nbformat_minor": 5
}
